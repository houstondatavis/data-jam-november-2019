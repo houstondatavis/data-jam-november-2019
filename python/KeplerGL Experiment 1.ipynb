{
 "cells": [
  {
   "cell_type": "markdown",
   "metadata": {},
   "source": [
    "# Quick Experiment using Jupyter widget for keplergl\n",
    "At the original data jam event, I used the demo app on [kepler.gl](kepler.gl) to visualize the data. Justin Gosses shared this notebook with me that shows how to use kepler as a jupyter widget."
   ]
  },
  {
   "cell_type": "code",
   "execution_count": 1,
   "metadata": {},
   "outputs": [],
   "source": [
    "import pandas as pd\n",
    "import matplotlib.pyplot as plt"
   ]
  },
  {
   "cell_type": "markdown",
   "metadata": {},
   "source": [
    "Installing keplergl jupyter widget:"
   ]
  },
  {
   "cell_type": "markdown",
   "metadata": {},
   "source": [
    "#### https://github.com/keplergl/kepler.gl/blob/master/docs/keplergl-jupyter/user-guide.md\n"
   ]
  },
  {
   "cell_type": "markdown",
   "metadata": {},
   "source": [
    "Make sure your ipywidgets is up to date.... and be wary that at one point it worked on jupyter notebook but not lab"
   ]
  },
  {
   "cell_type": "code",
   "execution_count": 2,
   "metadata": {},
   "outputs": [
    {
     "name": "stdout",
     "output_type": "stream",
     "text": [
      "7.5.1\n"
     ]
    }
   ],
   "source": [
    "import ipywidgets\n",
    "print(ipywidgets.__version__)\n"
   ]
  },
  {
   "cell_type": "markdown",
   "metadata": {},
   "source": [
    "Now lets bringin the data created from the \"cleaning\" notebook"
   ]
  },
  {
   "cell_type": "code",
   "execution_count": 3,
   "metadata": {},
   "outputs": [],
   "source": [
    "trips = pd.read_pickle('../cleaned_data/2018-2019_trips')"
   ]
  },
  {
   "cell_type": "code",
   "execution_count": 4,
   "metadata": {},
   "outputs": [
    {
     "data": {
      "text/html": [
       "<div>\n",
       "<style scoped>\n",
       "    .dataframe tbody tr th:only-of-type {\n",
       "        vertical-align: middle;\n",
       "    }\n",
       "\n",
       "    .dataframe tbody tr th {\n",
       "        vertical-align: top;\n",
       "    }\n",
       "\n",
       "    .dataframe thead th {\n",
       "        text-align: right;\n",
       "    }\n",
       "</style>\n",
       "<table border=\"1\" class=\"dataframe\">\n",
       "  <thead>\n",
       "    <tr style=\"text-align: right;\">\n",
       "      <th></th>\n",
       "      <th>index</th>\n",
       "      <th>TripId</th>\n",
       "      <th>UserProgramName</th>\n",
       "      <th>UserId</th>\n",
       "      <th>UserRole</th>\n",
       "      <th>UserCity</th>\n",
       "      <th>UserState</th>\n",
       "      <th>UserZip</th>\n",
       "      <th>UserCountry</th>\n",
       "      <th>MembershipType</th>\n",
       "      <th>...</th>\n",
       "      <th>TripProgramName</th>\n",
       "      <th>checkout_latitude</th>\n",
       "      <th>checkout_longitude</th>\n",
       "      <th>checkout_dock</th>\n",
       "      <th>index</th>\n",
       "      <th>return_latitude</th>\n",
       "      <th>return_longitude</th>\n",
       "      <th>return_dock</th>\n",
       "      <th>CheckoutDateTime</th>\n",
       "      <th>agg_member_type</th>\n",
       "    </tr>\n",
       "  </thead>\n",
       "  <tbody>\n",
       "    <tr>\n",
       "      <td>0</td>\n",
       "      <td>1919 Runnels</td>\n",
       "      <td>17084926</td>\n",
       "      <td>Houston BCycle</td>\n",
       "      <td>1496906</td>\n",
       "      <td>Maintenance</td>\n",
       "      <td>NaN</td>\n",
       "      <td>NaN</td>\n",
       "      <td>NaN</td>\n",
       "      <td>UNITED STATES</td>\n",
       "      <td>NaN</td>\n",
       "      <td>...</td>\n",
       "      <td>Houston BCycle</td>\n",
       "      <td>29.760748</td>\n",
       "      <td>-95.347931</td>\n",
       "      <td>11.0</td>\n",
       "      <td>1919 Runnels</td>\n",
       "      <td>29.760748</td>\n",
       "      <td>-95.347931</td>\n",
       "      <td>11.0</td>\n",
       "      <td>2018-04-13 12:13:10</td>\n",
       "      <td>NaN</td>\n",
       "    </tr>\n",
       "    <tr>\n",
       "      <td>1</td>\n",
       "      <td>1919 Runnels</td>\n",
       "      <td>17147944</td>\n",
       "      <td>Houston BCycle</td>\n",
       "      <td>1675064</td>\n",
       "      <td>RFID Card Member</td>\n",
       "      <td>Houston</td>\n",
       "      <td>TX</td>\n",
       "      <td>77070</td>\n",
       "      <td>UNITED STATES</td>\n",
       "      <td>Monthly Membership</td>\n",
       "      <td>...</td>\n",
       "      <td>Houston BCycle</td>\n",
       "      <td>29.760748</td>\n",
       "      <td>-95.347931</td>\n",
       "      <td>11.0</td>\n",
       "      <td>1919 Runnels</td>\n",
       "      <td>29.760748</td>\n",
       "      <td>-95.347931</td>\n",
       "      <td>11.0</td>\n",
       "      <td>2018-04-21 09:31:21</td>\n",
       "      <td>NaN</td>\n",
       "    </tr>\n",
       "    <tr>\n",
       "      <td>2</td>\n",
       "      <td>1919 Runnels</td>\n",
       "      <td>17084672</td>\n",
       "      <td>Houston BCycle</td>\n",
       "      <td>326770</td>\n",
       "      <td>RFID Card Member</td>\n",
       "      <td>Houston</td>\n",
       "      <td>TX</td>\n",
       "      <td>77003</td>\n",
       "      <td>UNITED STATES</td>\n",
       "      <td>Annual Member</td>\n",
       "      <td>...</td>\n",
       "      <td>Houston BCycle</td>\n",
       "      <td>29.760748</td>\n",
       "      <td>-95.347931</td>\n",
       "      <td>11.0</td>\n",
       "      <td>1919 Runnels</td>\n",
       "      <td>29.760748</td>\n",
       "      <td>-95.347931</td>\n",
       "      <td>11.0</td>\n",
       "      <td>2018-04-13 11:46:17</td>\n",
       "      <td>Annual</td>\n",
       "    </tr>\n",
       "    <tr>\n",
       "      <td>3</td>\n",
       "      <td>1919 Runnels</td>\n",
       "      <td>17086936</td>\n",
       "      <td>Houston BCycle</td>\n",
       "      <td>1675064</td>\n",
       "      <td>RFID Card Member</td>\n",
       "      <td>Houston</td>\n",
       "      <td>TX</td>\n",
       "      <td>77070</td>\n",
       "      <td>UNITED STATES</td>\n",
       "      <td>Monthly Membership</td>\n",
       "      <td>...</td>\n",
       "      <td>Houston BCycle</td>\n",
       "      <td>29.760748</td>\n",
       "      <td>-95.347931</td>\n",
       "      <td>11.0</td>\n",
       "      <td>1919 Runnels</td>\n",
       "      <td>29.760748</td>\n",
       "      <td>-95.347931</td>\n",
       "      <td>11.0</td>\n",
       "      <td>2018-04-13 15:34:48</td>\n",
       "      <td>NaN</td>\n",
       "    </tr>\n",
       "    <tr>\n",
       "      <td>4</td>\n",
       "      <td>1919 Runnels</td>\n",
       "      <td>17135200</td>\n",
       "      <td>Houston BCycle</td>\n",
       "      <td>326770</td>\n",
       "      <td>RFID Card Member</td>\n",
       "      <td>Houston</td>\n",
       "      <td>TX</td>\n",
       "      <td>77003</td>\n",
       "      <td>UNITED STATES</td>\n",
       "      <td>Annual Member</td>\n",
       "      <td>...</td>\n",
       "      <td>Houston BCycle</td>\n",
       "      <td>29.760748</td>\n",
       "      <td>-95.347931</td>\n",
       "      <td>11.0</td>\n",
       "      <td>1919 Runnels</td>\n",
       "      <td>29.760748</td>\n",
       "      <td>-95.347931</td>\n",
       "      <td>11.0</td>\n",
       "      <td>2018-04-19 17:54:20</td>\n",
       "      <td>Annual</td>\n",
       "    </tr>\n",
       "  </tbody>\n",
       "</table>\n",
       "<p>5 rows × 37 columns</p>\n",
       "</div>"
      ],
      "text/plain": [
       "          index    TripId UserProgramName   UserId          UserRole UserCity  \\\n",
       "0  1919 Runnels  17084926  Houston BCycle  1496906       Maintenance      NaN   \n",
       "1  1919 Runnels  17147944  Houston BCycle  1675064  RFID Card Member  Houston   \n",
       "2  1919 Runnels  17084672  Houston BCycle   326770  RFID Card Member  Houston   \n",
       "3  1919 Runnels  17086936  Houston BCycle  1675064  RFID Card Member  Houston   \n",
       "4  1919 Runnels  17135200  Houston BCycle   326770  RFID Card Member  Houston   \n",
       "\n",
       "  UserState UserZip    UserCountry      MembershipType  ... TripProgramName  \\\n",
       "0       NaN     NaN  UNITED STATES                 NaN  ...  Houston BCycle   \n",
       "1        TX   77070  UNITED STATES  Monthly Membership  ...  Houston BCycle   \n",
       "2        TX   77003  UNITED STATES       Annual Member  ...  Houston BCycle   \n",
       "3        TX   77070  UNITED STATES  Monthly Membership  ...  Houston BCycle   \n",
       "4        TX   77003  UNITED STATES       Annual Member  ...  Houston BCycle   \n",
       "\n",
       "  checkout_latitude checkout_longitude  checkout_dock         index  \\\n",
       "0         29.760748         -95.347931           11.0  1919 Runnels   \n",
       "1         29.760748         -95.347931           11.0  1919 Runnels   \n",
       "2         29.760748         -95.347931           11.0  1919 Runnels   \n",
       "3         29.760748         -95.347931           11.0  1919 Runnels   \n",
       "4         29.760748         -95.347931           11.0  1919 Runnels   \n",
       "\n",
       "   return_latitude return_longitude  return_dock    CheckoutDateTime  \\\n",
       "0        29.760748       -95.347931         11.0 2018-04-13 12:13:10   \n",
       "1        29.760748       -95.347931         11.0 2018-04-21 09:31:21   \n",
       "2        29.760748       -95.347931         11.0 2018-04-13 11:46:17   \n",
       "3        29.760748       -95.347931         11.0 2018-04-13 15:34:48   \n",
       "4        29.760748       -95.347931         11.0 2018-04-19 17:54:20   \n",
       "\n",
       "   agg_member_type  \n",
       "0              NaN  \n",
       "1              NaN  \n",
       "2           Annual  \n",
       "3              NaN  \n",
       "4           Annual  \n",
       "\n",
       "[5 rows x 37 columns]"
      ]
     },
     "execution_count": 4,
     "metadata": {},
     "output_type": "execute_result"
    }
   ],
   "source": [
    "trips.head()"
   ]
  },
  {
   "cell_type": "code",
   "execution_count": 6,
   "metadata": {},
   "outputs": [
    {
     "data": {
      "text/plain": [
       "410000"
      ]
     },
     "execution_count": 6,
     "metadata": {},
     "output_type": "execute_result"
    }
   ],
   "source": [
    "len(trips)"
   ]
  },
  {
   "cell_type": "code",
   "execution_count": 5,
   "metadata": {},
   "outputs": [
    {
     "data": {
      "text/html": [
       "<div>\n",
       "<style scoped>\n",
       "    .dataframe tbody tr th:only-of-type {\n",
       "        vertical-align: middle;\n",
       "    }\n",
       "\n",
       "    .dataframe tbody tr th {\n",
       "        vertical-align: top;\n",
       "    }\n",
       "\n",
       "    .dataframe thead th {\n",
       "        text-align: right;\n",
       "    }\n",
       "</style>\n",
       "<table border=\"1\" class=\"dataframe\">\n",
       "  <thead>\n",
       "    <tr style=\"text-align: right;\">\n",
       "      <th></th>\n",
       "      <th>TripId</th>\n",
       "      <th>UserId</th>\n",
       "      <th>DurationMins</th>\n",
       "      <th>AdjustedDurationMins</th>\n",
       "      <th>UsageFee</th>\n",
       "      <th>Distance</th>\n",
       "      <th>EstimatedCarbonOffset</th>\n",
       "      <th>EstimatedCaloriesBurned</th>\n",
       "      <th>checkout_latitude</th>\n",
       "      <th>checkout_longitude</th>\n",
       "      <th>checkout_dock</th>\n",
       "      <th>return_latitude</th>\n",
       "      <th>return_longitude</th>\n",
       "      <th>return_dock</th>\n",
       "    </tr>\n",
       "  </thead>\n",
       "  <tbody>\n",
       "    <tr>\n",
       "      <td>count</td>\n",
       "      <td>4.100000e+05</td>\n",
       "      <td>4.100000e+05</td>\n",
       "      <td>410000.000000</td>\n",
       "      <td>410000.000000</td>\n",
       "      <td>410000.000000</td>\n",
       "      <td>410000.000000</td>\n",
       "      <td>410000.000000</td>\n",
       "      <td>410000.000000</td>\n",
       "      <td>248618.000000</td>\n",
       "      <td>248618.000000</td>\n",
       "      <td>248618.000000</td>\n",
       "      <td>245687.000000</td>\n",
       "      <td>245687.000000</td>\n",
       "      <td>245687.000000</td>\n",
       "    </tr>\n",
       "    <tr>\n",
       "      <td>mean</td>\n",
       "      <td>1.907346e+07</td>\n",
       "      <td>2.199226e+06</td>\n",
       "      <td>61.375724</td>\n",
       "      <td>0.286178</td>\n",
       "      <td>2.187476</td>\n",
       "      <td>5.211737</td>\n",
       "      <td>4.954168</td>\n",
       "      <td>208.074790</td>\n",
       "      <td>29.745023</td>\n",
       "      <td>-95.378978</td>\n",
       "      <td>14.225571</td>\n",
       "      <td>29.744996</td>\n",
       "      <td>-95.379039</td>\n",
       "      <td>14.228014</td>\n",
       "    </tr>\n",
       "    <tr>\n",
       "      <td>std</td>\n",
       "      <td>1.257936e+06</td>\n",
       "      <td>4.433191e+05</td>\n",
       "      <td>402.095336</td>\n",
       "      <td>3.953603</td>\n",
       "      <td>9.290126</td>\n",
       "      <td>4.880641</td>\n",
       "      <td>4.635812</td>\n",
       "      <td>195.225219</td>\n",
       "      <td>0.021813</td>\n",
       "      <td>0.024014</td>\n",
       "      <td>3.655961</td>\n",
       "      <td>0.021828</td>\n",
       "      <td>0.024016</td>\n",
       "      <td>3.661082</td>\n",
       "    </tr>\n",
       "    <tr>\n",
       "      <td>min</td>\n",
       "      <td>1.655167e+07</td>\n",
       "      <td>1.228660e+05</td>\n",
       "      <td>0.000000</td>\n",
       "      <td>0.000000</td>\n",
       "      <td>0.000000</td>\n",
       "      <td>0.000000</td>\n",
       "      <td>0.000000</td>\n",
       "      <td>0.000000</td>\n",
       "      <td>29.691510</td>\n",
       "      <td>-95.556234</td>\n",
       "      <td>7.000000</td>\n",
       "      <td>29.691510</td>\n",
       "      <td>-95.556234</td>\n",
       "      <td>7.000000</td>\n",
       "    </tr>\n",
       "    <tr>\n",
       "      <td>25%</td>\n",
       "      <td>1.812189e+07</td>\n",
       "      <td>2.031848e+06</td>\n",
       "      <td>10.000000</td>\n",
       "      <td>0.000000</td>\n",
       "      <td>0.000000</td>\n",
       "      <td>1.000000</td>\n",
       "      <td>1.000000</td>\n",
       "      <td>40.000000</td>\n",
       "      <td>29.720196</td>\n",
       "      <td>-95.390396</td>\n",
       "      <td>11.000000</td>\n",
       "      <td>29.720196</td>\n",
       "      <td>-95.390396</td>\n",
       "      <td>11.000000</td>\n",
       "    </tr>\n",
       "    <tr>\n",
       "      <td>50%</td>\n",
       "      <td>1.925430e+07</td>\n",
       "      <td>2.320545e+06</td>\n",
       "      <td>29.000000</td>\n",
       "      <td>0.000000</td>\n",
       "      <td>0.000000</td>\n",
       "      <td>4.000000</td>\n",
       "      <td>3.800000</td>\n",
       "      <td>160.000000</td>\n",
       "      <td>29.754428</td>\n",
       "      <td>-95.376953</td>\n",
       "      <td>13.000000</td>\n",
       "      <td>29.754428</td>\n",
       "      <td>-95.377670</td>\n",
       "      <td>13.000000</td>\n",
       "    </tr>\n",
       "    <tr>\n",
       "      <td>75%</td>\n",
       "      <td>2.000202e+07</td>\n",
       "      <td>2.456652e+06</td>\n",
       "      <td>53.000000</td>\n",
       "      <td>0.000000</td>\n",
       "      <td>3.240000</td>\n",
       "      <td>7.700000</td>\n",
       "      <td>7.300000</td>\n",
       "      <td>306.000000</td>\n",
       "      <td>29.759766</td>\n",
       "      <td>-95.362457</td>\n",
       "      <td>15.000000</td>\n",
       "      <td>29.759766</td>\n",
       "      <td>-95.362457</td>\n",
       "      <td>15.000000</td>\n",
       "    </tr>\n",
       "    <tr>\n",
       "      <td>max</td>\n",
       "      <td>2.117677e+07</td>\n",
       "      <td>2.746402e+06</td>\n",
       "      <td>39728.000000</td>\n",
       "      <td>650.000000</td>\n",
       "      <td>2258.760000</td>\n",
       "      <td>137.300000</td>\n",
       "      <td>130.400000</td>\n",
       "      <td>5491.000000</td>\n",
       "      <td>29.800170</td>\n",
       "      <td>-95.324920</td>\n",
       "      <td>30.000000</td>\n",
       "      <td>29.800170</td>\n",
       "      <td>-95.324920</td>\n",
       "      <td>30.000000</td>\n",
       "    </tr>\n",
       "  </tbody>\n",
       "</table>\n",
       "</div>"
      ],
      "text/plain": [
       "             TripId        UserId   DurationMins  AdjustedDurationMins  \\\n",
       "count  4.100000e+05  4.100000e+05  410000.000000         410000.000000   \n",
       "mean   1.907346e+07  2.199226e+06      61.375724              0.286178   \n",
       "std    1.257936e+06  4.433191e+05     402.095336              3.953603   \n",
       "min    1.655167e+07  1.228660e+05       0.000000              0.000000   \n",
       "25%    1.812189e+07  2.031848e+06      10.000000              0.000000   \n",
       "50%    1.925430e+07  2.320545e+06      29.000000              0.000000   \n",
       "75%    2.000202e+07  2.456652e+06      53.000000              0.000000   \n",
       "max    2.117677e+07  2.746402e+06   39728.000000            650.000000   \n",
       "\n",
       "            UsageFee       Distance  EstimatedCarbonOffset  \\\n",
       "count  410000.000000  410000.000000          410000.000000   \n",
       "mean        2.187476       5.211737               4.954168   \n",
       "std         9.290126       4.880641               4.635812   \n",
       "min         0.000000       0.000000               0.000000   \n",
       "25%         0.000000       1.000000               1.000000   \n",
       "50%         0.000000       4.000000               3.800000   \n",
       "75%         3.240000       7.700000               7.300000   \n",
       "max      2258.760000     137.300000             130.400000   \n",
       "\n",
       "       EstimatedCaloriesBurned  checkout_latitude  checkout_longitude  \\\n",
       "count            410000.000000      248618.000000       248618.000000   \n",
       "mean                208.074790          29.745023          -95.378978   \n",
       "std                 195.225219           0.021813            0.024014   \n",
       "min                   0.000000          29.691510          -95.556234   \n",
       "25%                  40.000000          29.720196          -95.390396   \n",
       "50%                 160.000000          29.754428          -95.376953   \n",
       "75%                 306.000000          29.759766          -95.362457   \n",
       "max                5491.000000          29.800170          -95.324920   \n",
       "\n",
       "       checkout_dock  return_latitude  return_longitude    return_dock  \n",
       "count  248618.000000    245687.000000     245687.000000  245687.000000  \n",
       "mean       14.225571        29.744996        -95.379039      14.228014  \n",
       "std         3.655961         0.021828          0.024016       3.661082  \n",
       "min         7.000000        29.691510        -95.556234       7.000000  \n",
       "25%        11.000000        29.720196        -95.390396      11.000000  \n",
       "50%        13.000000        29.754428        -95.377670      13.000000  \n",
       "75%        15.000000        29.759766        -95.362457      15.000000  \n",
       "max        30.000000        29.800170        -95.324920      30.000000  "
      ]
     },
     "execution_count": 5,
     "metadata": {},
     "output_type": "execute_result"
    }
   ],
   "source": [
    "trips.describe()"
   ]
  },
  {
   "cell_type": "markdown",
   "metadata": {},
   "source": [
    "The full dataframe is a little big, so for testing purposes, lets cut it down a bit in size"
   ]
  },
  {
   "cell_type": "code",
   "execution_count": 19,
   "metadata": {},
   "outputs": [],
   "source": [
    "trips_short = trips[0:]"
   ]
  },
  {
   "cell_type": "markdown",
   "metadata": {},
   "source": [
    "Keplergl expects latitude and Longitude to be spelled a certain way"
   ]
  },
  {
   "cell_type": "code",
   "execution_count": 20,
   "metadata": {},
   "outputs": [
    {
     "name": "stderr",
     "output_type": "stream",
     "text": [
      "C:\\Users\\Michael\\Anaconda3\\envs\\geo\\lib\\site-packages\\ipykernel_launcher.py:1: SettingWithCopyWarning: \n",
      "A value is trying to be set on a copy of a slice from a DataFrame.\n",
      "Try using .loc[row_indexer,col_indexer] = value instead\n",
      "\n",
      "See the caveats in the documentation: http://pandas.pydata.org/pandas-docs/stable/user_guide/indexing.html#returning-a-view-versus-a-copy\n",
      "  \"\"\"Entry point for launching an IPython kernel.\n",
      "C:\\Users\\Michael\\Anaconda3\\envs\\geo\\lib\\site-packages\\ipykernel_launcher.py:2: SettingWithCopyWarning: \n",
      "A value is trying to be set on a copy of a slice from a DataFrame.\n",
      "Try using .loc[row_indexer,col_indexer] = value instead\n",
      "\n",
      "See the caveats in the documentation: http://pandas.pydata.org/pandas-docs/stable/user_guide/indexing.html#returning-a-view-versus-a-copy\n",
      "  \n"
     ]
    }
   ],
   "source": [
    "trips_short[\"Longitude\"] = trips_short[\"checkout_longitude\"]\n",
    "trips_short[\"Latitude\"] = trips_short[\"checkout_latitude\"]"
   ]
  },
  {
   "cell_type": "code",
   "execution_count": 21,
   "metadata": {},
   "outputs": [
    {
     "data": {
      "text/plain": [
       "410000"
      ]
     },
     "execution_count": 21,
     "metadata": {},
     "output_type": "execute_result"
    }
   ],
   "source": [
    "len(trips_short)"
   ]
  },
  {
   "cell_type": "code",
   "execution_count": 9,
   "metadata": {},
   "outputs": [
    {
     "data": {
      "text/html": [
       "<div>\n",
       "<style scoped>\n",
       "    .dataframe tbody tr th:only-of-type {\n",
       "        vertical-align: middle;\n",
       "    }\n",
       "\n",
       "    .dataframe tbody tr th {\n",
       "        vertical-align: top;\n",
       "    }\n",
       "\n",
       "    .dataframe thead th {\n",
       "        text-align: right;\n",
       "    }\n",
       "</style>\n",
       "<table border=\"1\" class=\"dataframe\">\n",
       "  <thead>\n",
       "    <tr style=\"text-align: right;\">\n",
       "      <th></th>\n",
       "      <th>index</th>\n",
       "      <th>TripId</th>\n",
       "      <th>UserProgramName</th>\n",
       "      <th>UserId</th>\n",
       "      <th>UserRole</th>\n",
       "      <th>UserCity</th>\n",
       "      <th>UserState</th>\n",
       "      <th>UserZip</th>\n",
       "      <th>UserCountry</th>\n",
       "      <th>MembershipType</th>\n",
       "      <th>...</th>\n",
       "      <th>checkout_longitude</th>\n",
       "      <th>checkout_dock</th>\n",
       "      <th>index</th>\n",
       "      <th>return_latitude</th>\n",
       "      <th>return_longitude</th>\n",
       "      <th>return_dock</th>\n",
       "      <th>CheckoutDateTime</th>\n",
       "      <th>agg_member_type</th>\n",
       "      <th>Longitude</th>\n",
       "      <th>Latitude</th>\n",
       "    </tr>\n",
       "  </thead>\n",
       "  <tbody>\n",
       "    <tr>\n",
       "      <td>95</td>\n",
       "      <td>1919 Runnels</td>\n",
       "      <td>18247142</td>\n",
       "      <td>Houston BCycle</td>\n",
       "      <td>2209659</td>\n",
       "      <td>RFID Card Member</td>\n",
       "      <td>NaN</td>\n",
       "      <td>NaN</td>\n",
       "      <td>77002</td>\n",
       "      <td>UNITED STATES</td>\n",
       "      <td>Monthly Membership</td>\n",
       "      <td>...</td>\n",
       "      <td>-95.347931</td>\n",
       "      <td>11.0</td>\n",
       "      <td>1919 Runnels</td>\n",
       "      <td>29.760748</td>\n",
       "      <td>-95.347931</td>\n",
       "      <td>11.0</td>\n",
       "      <td>2018-08-14 08:55:42</td>\n",
       "      <td>NaN</td>\n",
       "      <td>-95.347931</td>\n",
       "      <td>29.760748</td>\n",
       "    </tr>\n",
       "    <tr>\n",
       "      <td>96</td>\n",
       "      <td>1919 Runnels</td>\n",
       "      <td>18194848</td>\n",
       "      <td>Houston BCycle</td>\n",
       "      <td>2209659</td>\n",
       "      <td>RFID Card Member</td>\n",
       "      <td>NaN</td>\n",
       "      <td>NaN</td>\n",
       "      <td>77002</td>\n",
       "      <td>UNITED STATES</td>\n",
       "      <td>Monthly Membership</td>\n",
       "      <td>...</td>\n",
       "      <td>-95.347931</td>\n",
       "      <td>11.0</td>\n",
       "      <td>1919 Runnels</td>\n",
       "      <td>29.760748</td>\n",
       "      <td>-95.347931</td>\n",
       "      <td>11.0</td>\n",
       "      <td>2018-08-08 14:30:49</td>\n",
       "      <td>NaN</td>\n",
       "      <td>-95.347931</td>\n",
       "      <td>29.760748</td>\n",
       "    </tr>\n",
       "    <tr>\n",
       "      <td>97</td>\n",
       "      <td>1919 Runnels</td>\n",
       "      <td>18288679</td>\n",
       "      <td>Houston BCycle</td>\n",
       "      <td>2241176</td>\n",
       "      <td>Non-RFID Card Member</td>\n",
       "      <td>NaN</td>\n",
       "      <td>NaN</td>\n",
       "      <td>NaN</td>\n",
       "      <td>UNITED STATES</td>\n",
       "      <td>Single Use Pass</td>\n",
       "      <td>...</td>\n",
       "      <td>-95.347931</td>\n",
       "      <td>11.0</td>\n",
       "      <td>1919 Runnels</td>\n",
       "      <td>29.760748</td>\n",
       "      <td>-95.347931</td>\n",
       "      <td>11.0</td>\n",
       "      <td>2018-08-19 03:40:29</td>\n",
       "      <td>Single/Day</td>\n",
       "      <td>-95.347931</td>\n",
       "      <td>29.760748</td>\n",
       "    </tr>\n",
       "    <tr>\n",
       "      <td>98</td>\n",
       "      <td>1919 Runnels</td>\n",
       "      <td>18392254</td>\n",
       "      <td>Houston BCycle</td>\n",
       "      <td>2260333</td>\n",
       "      <td>Non-RFID Card Member</td>\n",
       "      <td>NaN</td>\n",
       "      <td>NaN</td>\n",
       "      <td>77044</td>\n",
       "      <td>UNITED STATES</td>\n",
       "      <td>Single Use Pass</td>\n",
       "      <td>...</td>\n",
       "      <td>-95.347931</td>\n",
       "      <td>11.0</td>\n",
       "      <td>1919 Runnels</td>\n",
       "      <td>29.760748</td>\n",
       "      <td>-95.347931</td>\n",
       "      <td>11.0</td>\n",
       "      <td>2018-08-29 18:29:48</td>\n",
       "      <td>Single/Day</td>\n",
       "      <td>-95.347931</td>\n",
       "      <td>29.760748</td>\n",
       "    </tr>\n",
       "    <tr>\n",
       "      <td>99</td>\n",
       "      <td>1919 Runnels</td>\n",
       "      <td>18162310</td>\n",
       "      <td>Houston BCycle</td>\n",
       "      <td>2217188</td>\n",
       "      <td>Non-RFID Card Member</td>\n",
       "      <td>NaN</td>\n",
       "      <td>NaN</td>\n",
       "      <td>77044</td>\n",
       "      <td>UNITED STATES</td>\n",
       "      <td>Single Use Pass</td>\n",
       "      <td>...</td>\n",
       "      <td>-95.347931</td>\n",
       "      <td>11.0</td>\n",
       "      <td>1919 Runnels</td>\n",
       "      <td>29.760748</td>\n",
       "      <td>-95.347931</td>\n",
       "      <td>11.0</td>\n",
       "      <td>2018-08-04 20:21:00</td>\n",
       "      <td>Single/Day</td>\n",
       "      <td>-95.347931</td>\n",
       "      <td>29.760748</td>\n",
       "    </tr>\n",
       "  </tbody>\n",
       "</table>\n",
       "<p>5 rows × 39 columns</p>\n",
       "</div>"
      ],
      "text/plain": [
       "           index    TripId UserProgramName   UserId              UserRole  \\\n",
       "95  1919 Runnels  18247142  Houston BCycle  2209659      RFID Card Member   \n",
       "96  1919 Runnels  18194848  Houston BCycle  2209659      RFID Card Member   \n",
       "97  1919 Runnels  18288679  Houston BCycle  2241176  Non-RFID Card Member   \n",
       "98  1919 Runnels  18392254  Houston BCycle  2260333  Non-RFID Card Member   \n",
       "99  1919 Runnels  18162310  Houston BCycle  2217188  Non-RFID Card Member   \n",
       "\n",
       "   UserCity UserState UserZip    UserCountry      MembershipType  ...  \\\n",
       "95      NaN       NaN   77002  UNITED STATES  Monthly Membership  ...   \n",
       "96      NaN       NaN   77002  UNITED STATES  Monthly Membership  ...   \n",
       "97      NaN       NaN     NaN  UNITED STATES     Single Use Pass  ...   \n",
       "98      NaN       NaN   77044  UNITED STATES     Single Use Pass  ...   \n",
       "99      NaN       NaN   77044  UNITED STATES     Single Use Pass  ...   \n",
       "\n",
       "   checkout_longitude checkout_dock         index  return_latitude  \\\n",
       "95         -95.347931          11.0  1919 Runnels        29.760748   \n",
       "96         -95.347931          11.0  1919 Runnels        29.760748   \n",
       "97         -95.347931          11.0  1919 Runnels        29.760748   \n",
       "98         -95.347931          11.0  1919 Runnels        29.760748   \n",
       "99         -95.347931          11.0  1919 Runnels        29.760748   \n",
       "\n",
       "    return_longitude  return_dock    CheckoutDateTime  agg_member_type  \\\n",
       "95        -95.347931         11.0 2018-08-14 08:55:42              NaN   \n",
       "96        -95.347931         11.0 2018-08-08 14:30:49              NaN   \n",
       "97        -95.347931         11.0 2018-08-19 03:40:29       Single/Day   \n",
       "98        -95.347931         11.0 2018-08-29 18:29:48       Single/Day   \n",
       "99        -95.347931         11.0 2018-08-04 20:21:00       Single/Day   \n",
       "\n",
       "    Longitude   Latitude  \n",
       "95 -95.347931  29.760748  \n",
       "96 -95.347931  29.760748  \n",
       "97 -95.347931  29.760748  \n",
       "98 -95.347931  29.760748  \n",
       "99 -95.347931  29.760748  \n",
       "\n",
       "[5 rows x 39 columns]"
      ]
     },
     "execution_count": 9,
     "metadata": {},
     "output_type": "execute_result"
    }
   ],
   "source": [
    "trips_short.tail()"
   ]
  },
  {
   "cell_type": "code",
   "execution_count": 10,
   "metadata": {},
   "outputs": [
    {
     "data": {
      "text/plain": [
       "Index(['index', 'TripId', 'UserProgramName', 'UserId', 'UserRole', 'UserCity',\n",
       "       'UserState', 'UserZip', 'UserCountry', 'MembershipType', 'Bike',\n",
       "       'BikeType', 'ReturnKioskName', 'DurationMins', 'AdjustedDurationMins',\n",
       "       'UsageFee', 'AdjustmentFlag', 'Distance', 'EstimatedCarbonOffset',\n",
       "       'EstimatedCaloriesBurned', 'CheckoutDateLocal', 'ReturnDateLocal',\n",
       "       'CheckoutTimeLocal', 'ReturnTimeLocal', 'TripOver30Mins',\n",
       "       'LocalProgramFlag', 'TripRouteCategory', 'TripProgramName',\n",
       "       'checkout_latitude', 'checkout_longitude', 'checkout_dock', 'index',\n",
       "       'return_latitude', 'return_longitude', 'return_dock',\n",
       "       'CheckoutDateTime', 'agg_member_type', 'Longitude', 'Latitude'],\n",
       "      dtype='object')"
      ]
     },
     "execution_count": 10,
     "metadata": {},
     "output_type": "execute_result"
    }
   ],
   "source": [
    "trips_short.columns"
   ]
  },
  {
   "cell_type": "markdown",
   "metadata": {},
   "source": [
    "duplicate columns with the same name confused kepler, so we had to take out those too"
   ]
  },
  {
   "cell_type": "code",
   "execution_count": 22,
   "metadata": {},
   "outputs": [],
   "source": [
    "trips_short = trips_short.drop(['index'], axis=1)"
   ]
  },
  {
   "cell_type": "code",
   "execution_count": 12,
   "metadata": {},
   "outputs": [
    {
     "data": {
      "text/plain": [
       "Index(['TripId', 'UserProgramName', 'UserId', 'UserRole', 'UserCity',\n",
       "       'UserState', 'UserZip', 'UserCountry', 'MembershipType', 'Bike',\n",
       "       'BikeType', 'ReturnKioskName', 'DurationMins', 'AdjustedDurationMins',\n",
       "       'UsageFee', 'AdjustmentFlag', 'Distance', 'EstimatedCarbonOffset',\n",
       "       'EstimatedCaloriesBurned', 'CheckoutDateLocal', 'ReturnDateLocal',\n",
       "       'CheckoutTimeLocal', 'ReturnTimeLocal', 'TripOver30Mins',\n",
       "       'LocalProgramFlag', 'TripRouteCategory', 'TripProgramName',\n",
       "       'checkout_latitude', 'checkout_longitude', 'checkout_dock',\n",
       "       'return_latitude', 'return_longitude', 'return_dock',\n",
       "       'CheckoutDateTime', 'agg_member_type', 'Longitude', 'Latitude'],\n",
       "      dtype='object')"
      ]
     },
     "execution_count": 12,
     "metadata": {},
     "output_type": "execute_result"
    }
   ],
   "source": [
    "trips_short.columns"
   ]
  },
  {
   "cell_type": "code",
   "execution_count": 13,
   "metadata": {},
   "outputs": [],
   "source": [
    "# Load an empty map\n",
    "from keplergl import KeplerGl\n"
   ]
  },
  {
   "cell_type": "code",
   "execution_count": 23,
   "metadata": {},
   "outputs": [
    {
     "name": "stdout",
     "output_type": "stream",
     "text": [
      "User Guide: https://github.com/keplergl/kepler.gl/blob/master/docs/keplergl-jupyter/user-guide.md\n"
     ]
    }
   ],
   "source": [
    "map_1 = KeplerGl()"
   ]
  },
  {
   "cell_type": "code",
   "execution_count": 24,
   "metadata": {},
   "outputs": [],
   "source": [
    "map_1.add_data(data=trips_short,name=\"data_1\")\n"
   ]
  },
  {
   "cell_type": "code",
   "execution_count": 25,
   "metadata": {},
   "outputs": [],
   "source": [
    "config = {'version': 'v1',\n",
    " 'config': {'visState': {'filters': [],\n",
    "   'layers': [{'type':'point','config':{'dataId':'data_1'}}],\n",
    "    'filters': [{'dataId':'data_1','name':'job_title'}],\n",
    "   'interactionConfig': {'tooltip': {'fieldsToShow': {'data_1':['AdjustedDurationMins','UserId','Distance','EstimatedCaloriesBurned']}, 'enabled': True},\n",
    "    'brush': {'size': 4, 'enabled': False}},\n",
    "   'layerBlending': 'normal',\n",
    "   'splitMaps': []},\n",
    "  'mapState': {'bearing': 0,\n",
    "   'dragRotate': False,\n",
    "   'latitude': 30.007182,\n",
    "   'longitude': -95.366456,\n",
    "   'pitch': 0,\n",
    "   'zoom': 7.21057540104681,\n",
    "   'isSplit': False},\n",
    "  'mapStyle': {'styleType': 'dark',\n",
    "   'topLayerGroups': {},\n",
    "   'visibleLayerGroups': {'label': True,\n",
    "    'road': True,\n",
    "    'border': False,\n",
    "    'building': True,\n",
    "    'water': True,\n",
    "    'land': True,\n",
    "    '3d building': False},\n",
    "   'threeDBuildingColor': [9.665468314072013,\n",
    "    17.18305478057247,\n",
    "    31.1442867897876],\n",
    "   'mapStyles': {}}}}"
   ]
  },
  {
   "cell_type": "code",
   "execution_count": 26,
   "metadata": {},
   "outputs": [],
   "source": [
    "map_1.config = config"
   ]
  },
  {
   "cell_type": "markdown",
   "metadata": {},
   "source": [
    "NOTE: You might have to turn on the visibilty of the layers! It seems for a large number of points Kepler defaults to them not showing? I might have messed up config too?"
   ]
  },
  {
   "cell_type": "code",
   "execution_count": 27,
   "metadata": {},
   "outputs": [
    {
     "data": {
      "application/vnd.jupyter.widget-view+json": {
       "model_id": "07024a824517468e8cf0cb9afd2482a8",
       "version_major": 2,
       "version_minor": 0
      },
      "text/plain": [
       "KeplerGl(config={'version': 'v1', 'config': {'visState': {'filters': [{'dataId': 'data_1', 'name': 'job_title'…"
      ]
     },
     "metadata": {},
     "output_type": "display_data"
    }
   ],
   "source": [
    "map_1"
   ]
  },
  {
   "cell_type": "code",
   "execution_count": null,
   "metadata": {
    "collapsed": true,
    "jupyter": {
     "outputs_hidden": true
    }
   },
   "outputs": [],
   "source": [
    "### this is how you would save it as a full front-end page with all the data\n",
    "### Could put up as a front-end only github pages page.\n",
    "#map_1.save_to_html(data={'data_1': trips_short}, config=config, file_name='first_map.html')"
   ]
  }
 ],
 "metadata": {
  "kernelspec": {
   "display_name": "Python 3",
   "language": "python",
   "name": "python3"
  },
  "language_info": {
   "codemirror_mode": {
    "name": "ipython",
    "version": 3
   },
   "file_extension": ".py",
   "mimetype": "text/x-python",
   "name": "python",
   "nbconvert_exporter": "python",
   "pygments_lexer": "ipython3",
   "version": "3.7.2"
  }
 },
 "nbformat": 4,
 "nbformat_minor": 4
}
