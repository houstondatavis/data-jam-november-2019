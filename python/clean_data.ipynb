{
 "cells": [
  {
   "cell_type": "code",
   "execution_count": 1,
   "metadata": {},
   "outputs": [],
   "source": [
    "import pandas as pd\n",
    "import glob\n",
    "import matplotlib.pyplot as plt"
   ]
  },
  {
   "cell_type": "code",
   "execution_count": 2,
   "metadata": {},
   "outputs": [],
   "source": [
    "stations = pd.read_csv('../src/Station Master List.csv')"
   ]
  },
  {
   "cell_type": "markdown",
   "metadata": {},
   "source": [
    "Use glob to read in all 2018 and 2019 data. I tried loading in more, and got an encoding error. I'll ignore it for now and keep going"
   ]
  },
  {
   "cell_type": "code",
   "execution_count": 3,
   "metadata": {},
   "outputs": [],
   "source": [
    "trips = pd.concat([pd.read_csv(f) for f in glob.glob('../src/Trip Data/*201[8-9].csv')], ignore_index = True)"
   ]
  },
  {
   "cell_type": "markdown",
   "metadata": {},
   "source": [
    "Join the station spatial data for the locations with the trip data. This will give a start and stop location for each trip"
   ]
  },
  {
   "cell_type": "code",
   "execution_count": 4,
   "metadata": {},
   "outputs": [],
   "source": [
    "checkout_spatial = trips.set_index('CheckoutKioskName')\\\n",
    "    .join(stations.set_index('Station Name')[['Latitude', 'Longitude', 'Dock']])\\\n",
    "    .rename(columns={'Latitude': 'checkout_latitude', 'Longitude':'checkout_longitude', 'Dock': 'checkout_dock'})\\\n",
    "    .reset_index()\n",
    "\n",
    "return_spatial = trips[['ReturnKioskName']].set_index('ReturnKioskName')\\\n",
    "    .join(stations.set_index('Station Name')[['Latitude', 'Longitude', 'Dock']])\\\n",
    "    .rename(columns={'Latitude': 'return_latitude', 'Longitude':'return_longitude', 'Dock': 'return_dock'})\\\n",
    "    .reset_index()\n",
    "\n",
    "joined_trips = pd.concat([checkout_spatial, return_spatial], axis=1)"
   ]
  },
  {
   "cell_type": "markdown",
   "metadata": {},
   "source": [
    "Get the checkout date and time into one column that is a pandas datetime datatype."
   ]
  },
  {
   "cell_type": "code",
   "execution_count": 5,
   "metadata": {},
   "outputs": [],
   "source": [
    "joined_trips['CheckoutDateTime'] = pd.to_datetime(joined_trips['CheckoutDateLocal']\\\n",
    "                                                  + ' ' + \\\n",
    "                                                  joined_trips['CheckoutTimeLocal'])"
   ]
  },
  {
   "cell_type": "markdown",
   "metadata": {},
   "source": [
    "The names of member types have changed over time. It will be useful to combine all of the annual membership holders into one key and all of the single or day use pass holders into another key"
   ]
  },
  {
   "cell_type": "code",
   "execution_count": 6,
   "metadata": {},
   "outputs": [],
   "source": [
    "annual_member_types = ['Annual Member', 'Annual Membership', 'Annual', 'Annual Pass', 'Annual Plus']\n",
    "single_use_or_day_pass = ['Single Use Pass', '24 Hour Pass', 'Single Ride 24']\n",
    "\n",
    "membership_type_map = dict()\n",
    "for i in annual_member_types:\n",
    "    membership_type_map[i] = 'Annual'\n",
    "\n",
    "for i in single_use_or_day_pass:    \n",
    "    membership_type_map[i] = 'Single/Day'\n",
    "    \n",
    "joined_trips['agg_member_type'] = joined_trips['MembershipType'].map(membership_type_map) "
   ]
  },
  {
   "cell_type": "code",
   "execution_count": 7,
   "metadata": {},
   "outputs": [],
   "source": [
    "joined_trips.to_csv('../cleaned_data/2018-2019_trips.csv', index=False)\n",
    "joined_trips.to_pickle('../cleaned_data/2018-2019_trips')"
   ]
  },
  {
   "cell_type": "code",
   "execution_count": 8,
   "metadata": {},
   "outputs": [
    {
     "name": "stdout",
     "output_type": "stream",
     "text": [
      "<class 'pandas.core.frame.DataFrame'>\n",
      "RangeIndex: 410000 entries, 0 to 409999\n",
      "Data columns (total 37 columns):\n",
      "index                      410000 non-null object\n",
      "TripId                     410000 non-null int64\n",
      "UserProgramName            410000 non-null object\n",
      "UserId                     410000 non-null int64\n",
      "UserRole                   410000 non-null object\n",
      "UserCity                   113843 non-null object\n",
      "UserState                  113749 non-null object\n",
      "UserZip                    354847 non-null object\n",
      "UserCountry                410000 non-null object\n",
      "MembershipType             378884 non-null object\n",
      "Bike                       410000 non-null object\n",
      "BikeType                   410000 non-null object\n",
      "ReturnKioskName            410000 non-null object\n",
      "DurationMins               410000 non-null int64\n",
      "AdjustedDurationMins       410000 non-null int64\n",
      "UsageFee                   410000 non-null float64\n",
      "AdjustmentFlag             410000 non-null object\n",
      "Distance                   410000 non-null float64\n",
      "EstimatedCarbonOffset      410000 non-null float64\n",
      "EstimatedCaloriesBurned    410000 non-null int64\n",
      "CheckoutDateLocal          410000 non-null object\n",
      "ReturnDateLocal            410000 non-null object\n",
      "CheckoutTimeLocal          410000 non-null object\n",
      "ReturnTimeLocal            410000 non-null object\n",
      "TripOver30Mins             410000 non-null object\n",
      "LocalProgramFlag           410000 non-null object\n",
      "TripRouteCategory          410000 non-null object\n",
      "TripProgramName            410000 non-null object\n",
      "checkout_latitude          248618 non-null float64\n",
      "checkout_longitude         248618 non-null float64\n",
      "checkout_dock              248618 non-null float64\n",
      "index                      410000 non-null object\n",
      "return_latitude            245687 non-null float64\n",
      "return_longitude           245687 non-null float64\n",
      "return_dock                245687 non-null float64\n",
      "CheckoutDateTime           410000 non-null datetime64[ns]\n",
      "agg_member_type            262625 non-null object\n",
      "dtypes: datetime64[ns](1), float64(9), int64(5), object(22)\n",
      "memory usage: 115.7+ MB\n"
     ]
    }
   ],
   "source": [
    "joined_trips.info()"
   ]
  }
 ],
 "metadata": {
  "kernelspec": {
   "display_name": "Python 3",
   "language": "python",
   "name": "python3"
  },
  "language_info": {
   "codemirror_mode": {
    "name": "ipython",
    "version": 3
   },
   "file_extension": ".py",
   "mimetype": "text/x-python",
   "name": "python",
   "nbconvert_exporter": "python",
   "pygments_lexer": "ipython3",
   "version": "3.7.2"
  }
 },
 "nbformat": 4,
 "nbformat_minor": 4
}
